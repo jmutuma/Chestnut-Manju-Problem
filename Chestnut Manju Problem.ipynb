{
 "cells": [
  {
   "cell_type": "markdown",
   "id": "b865f8d8",
   "metadata": {},
   "source": [
    "# chestnut manju problem\n",
    "Baibain\" is a chemical, and when it is sprinkled, the object doubles every 5 minutes.If one chestnut bun is sprinkled with Bybain, how many minutes will it take for the solar system to be covered with chestnut buns.\n",
    "Formula:\n",
    "1. (volume of 1 chestnut) * (2^n) = (total volume after(n * 5) minutes)\n",
    "lets (volume of 1 chestnut) = v(1) and (total volume) = v(t)\n",
    "2. v(1) * 2^n = v(t)  : n*5 = total minutes\n",
    "use log to find n\n",
    "3. log (v(1)) + log(2^n) = log(v(t))\n",
    "4. log(2^n) = log(v(t)) - log (v(1))\n",
    "5. nlog2 = log(v(t)) - log (v(1))\n",
    "6. n = (log(v(t)) - log(v(1))) / log2\n",
    "\n",
    "\n",
    "volume of single chestnut manju is (v1) (4cm * 4cm * 3cm) = 48cm3 = 0.000048m3\n",
    "volume of the solar system:\n",
    "diameter of solar system = 287.46 * 10^12 meters\n",
    "radius of solar system = 143.73 * 10^12 meters\n",
    "volume of sphere = (4/3)*math.pi*(pow((143.73e+12),3))\n",
    "volume of solar system = 1.2437436774647063e+43 m3\n",
    "\n",
    "I'm using a function that takes 2 arguments( the volume required to be filled, and rate_of_expansion - either bybain -2 or byvain -3) and outputs the time it takes the chestnuts to fill the volume."
   ]
  },
  {
   "cell_type": "code",
   "execution_count": 10,
   "id": "d7496a46",
   "metadata": {},
   "outputs": [
    {
     "name": "stdout",
     "output_type": "stream",
     "text": [
      "It took 787.5210167026785 minutes to fill.\n"
     ]
    }
   ],
   "source": [
    "import math\n",
    "def chestnut_problem_time(volume, rate_of_expansion):\n",
    "    volume_of_chestnut = 0.000048\n",
    "    n = (math.log(volume) - math.log(0.000048)) / math.log(rate_of_expansion)\n",
    "    total_time = n * 5\n",
    "    print(\"It took\",total_time,\"minutes to fill.\")\n",
    "    \n",
    "\n",
    "chestnut_problem_time(1.2437436774647063e+43, 2)    \n",
    "    "
   ]
  },
  {
   "cell_type": "code",
   "execution_count": null,
   "id": "4e50683c",
   "metadata": {},
   "outputs": [],
   "source": [
    "It will take 496 seconds to fill the solar system if bybain is used"
   ]
  },
  {
   "cell_type": "markdown",
   "id": "902139f5",
   "metadata": {},
   "source": [
    "Assuming byvain = 3 and that chesnut is sprinkled with it(tripples instead of doubles)"
   ]
  },
  {
   "cell_type": "code",
   "execution_count": 11,
   "id": "a7d12b90",
   "metadata": {},
   "outputs": [
    {
     "name": "stdout",
     "output_type": "stream",
     "text": [
      "It took 496.8704410005645 minutes to fill.\n"
     ]
    }
   ],
   "source": [
    "import math\n",
    "def chestnut_problem_time(volume, rate_of_expansion):\n",
    "    volume_of_chestnut = 0.000048\n",
    "    n = (math.log(volume) - math.log(0.000048)) / math.log(rate_of_expansion)\n",
    "    total_time = n * 5\n",
    "    print(\"It took\",total_time,\"minutes to fill.\")\n",
    "    \n",
    "#assuming byvain = 3\n",
    "chestnut_problem_time(1.2437436774647063e+43, 3)  "
   ]
  },
  {
   "cell_type": "markdown",
   "id": "b616a8c7",
   "metadata": {},
   "source": [
    "It will take 496 seconds to fill the solar system if byvain is used"
   ]
  },
  {
   "cell_type": "markdown",
   "id": "a35c4875",
   "metadata": {},
   "source": [
    "Volume of tokyo dome = 1,240,000 m3\n",
    "To fill the tokyo dome when chestnut bun is sprinkled with bybain is"
   ]
  },
  {
   "cell_type": "code",
   "execution_count": 12,
   "id": "7a51400e",
   "metadata": {},
   "outputs": [
    {
     "name": "stdout",
     "output_type": "stream",
     "text": [
      "It took 172.9425737926967 minutes to fill.\n"
     ]
    }
   ],
   "source": [
    "import math\n",
    "def chestnut_problem_time(volume, rate_of_expansion):\n",
    "    volume_of_chestnut = 0.000048\n",
    "    n = (math.log(volume) - math.log(0.000048)) / math.log(rate_of_expansion)\n",
    "    total_time = n * 5\n",
    "    print(\"It took\",total_time,\"minutes to fill.\")\n",
    "    \n",
    "#assuming bybain = 2\n",
    "chestnut_problem_time(1240000, 2) "
   ]
  },
  {
   "cell_type": "markdown",
   "id": "d1911022",
   "metadata": {},
   "source": [
    "It will take 173 minutes to fill the tokyo dome."
   ]
  },
  {
   "cell_type": "markdown",
   "id": "9c304baf",
   "metadata": {},
   "source": [
    "# Data Visualization\n",
    "Draw a line graph to show the rate of volume expansion for filling tokyo dome.\n",
    "x-axis - time\n",
    "y-axis - volume"
   ]
  },
  {
   "cell_type": "code",
   "execution_count": 13,
   "id": "55431f4c",
   "metadata": {},
   "outputs": [
    {
     "name": "stdout",
     "output_type": "stream",
     "text": [
      "It took 172.9425737926967 minutes to fill.\n"
     ]
    }
   ],
   "source": [
    "import math\n",
    "def chestnut_problem_time(volume, rate_of_expansion):\n",
    "    volume_of_chestnut = 0.000048\n",
    "    n = (math.log(volume) - math.log(0.000048)) / math.log(rate_of_expansion)\n",
    "    total_time = n * 5\n",
    "    print(\"It took\",total_time,\"minutes to fill.\")\n",
    "    \n",
    "#assuming bybain = 2\n",
    "chestnut_problem_time(1240000, 2) "
   ]
  },
  {
   "cell_type": "markdown",
   "id": "bd0eae6f",
   "metadata": {},
   "source": [
    "total_time = n*5 so n = total_time / 5\n",
    "172.94/5 = 35\n",
    "n = 35"
   ]
  },
  {
   "cell_type": "code",
   "execution_count": 17,
   "id": "4317ca8a",
   "metadata": {},
   "outputs": [
    {
     "name": "stdout",
     "output_type": "stream",
     "text": [
      "volume_of_chestnut: [4.8e-05, 9.6e-05, 0.000192, 0.000384, 0.000768, 0.001536, 0.003072, 0.006144, 0.012288, 0.024576, 0.049152, 0.098304, 0.196608, 0.393216, 0.786432, 1.572864, 3.145728, 6.291456, 12.582912, 25.165824, 50.331648, 100.663296, 201.326592, 402.653184, 805.306368, 1610.612736, 3221.225472, 6442.450944, 12884.901888, 25769.803776, 51539.607552, 103079.215104, 206158.430208, 412316.860416, 824633.720832, 1649267.441664]\n",
      "Number of values in volume_of_chestnut_list: 36\n"
     ]
    }
   ],
   "source": [
    "volume_of_chestnut = 0.000048\n",
    "num = volume_of_chestnut\n",
    "volume_of_chestnut_list = [num]\n",
    "for n in range(35):\n",
    "    num = num*2\n",
    "    volume_of_chestnut_list.append(num)\n",
    "print(\"volume_of_chestnut:\",volume_of_chestnut_list)\n",
    "print(\"Number of values in volume_of_chestnut_list:\",len(volume_of_chestnut_list))\n",
    "    "
   ]
  },
  {
   "cell_type": "code",
   "execution_count": 33,
   "id": "d91e1502",
   "metadata": {},
   "outputs": [
    {
     "data": {
      "image/png": "[encoded data removed]",
      "text/plain": [
       "<Figure size 640x480 with 1 Axes>"
      ]
     },
     "metadata": {},
     "output_type": "display_data"
    }
   ],
   "source": [
    "import matplotlib.pyplot as plt\n",
    "%matplotlib inline\n",
    "fig, ax = plt.subplots()\n",
    "total_time_list = [x for x in range(0,180,5)]\n",
    "ax.plot(total_time_list, volume_of_chestnut_list)\n",
    "plt.title(\"Rate of filling Tokyo Dome\")\n",
    "plt.xlabel(\"Minutes\")\n",
    "plt.ylabel(\"Volume of chestnut\")\n",
    "plt.show()"
   ]
  },
  {
   "cell_type": "code",
   "execution_count": null,
   "id": "9da01ee6",
   "metadata": {},
   "outputs": [],
   "source": []
  }
 ],
 "metadata": {
  "kernelspec": {
   "display_name": "Python 3 (ipykernel)",
   "language": "python",
   "name": "python3"
  },
  "language_info": {
   "codemirror_mode": {
    "name": "ipython",
    "version": 3
   },
   "file_extension": ".py",
   "mimetype": "text/x-python",
   "name": "python",
   "nbconvert_exporter": "python",
   "pygments_lexer": "ipython3",
   "version": "3.8.10"
  }
 },
 "nbformat": 4,
 "nbformat_minor": 5
}
